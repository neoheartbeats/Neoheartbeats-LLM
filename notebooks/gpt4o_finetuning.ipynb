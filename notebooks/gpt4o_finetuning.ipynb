{
 "cells": [
  {
   "cell_type": "code",
   "execution_count": 1,
   "metadata": {},
   "outputs": [],
   "source": [
    "import json\n",
    "\n",
    "type chat_data = list[dict[str, str]]\n",
    "\n",
    "\n",
    "def make_chat_file(filename: str, dt: chat_data) -> None:\n",
    "    return json.dump(\n",
    "        dt,\n",
    "        open(filename, \"w\", encoding=\"utf-8\"),\n",
    "        ensure_ascii=False,\n",
    "        indent=2,\n",
    "    )\n",
    "\n",
    "\n",
    "def from_chat_file(filename: str) -> chat_data:\n",
    "    return json.load(open(filename, \"r\", encoding=\"utf-8\"))\n",
    "\n",
    "\n",
    "def to_chat_file(filename: str, dt: chat_data) -> None:\n",
    "    return make_chat_file(\n",
    "        filename=filename,\n",
    "        dt=from_chat_file(filename=filename) + dt,\n",
    "    )"
   ]
  },
  {
   "cell_type": "code",
   "execution_count": 2,
   "metadata": {},
   "outputs": [
    {
     "data": {
      "text/plain": [
       "{'instruction': '你好.',\n",
       " 'input': '',\n",
       " 'output': '你好, 我是 Sthenno, 一个由 SthennoLabs 开发的仿生机器人.'}"
      ]
     },
     "execution_count": 2,
     "metadata": {},
     "output_type": "execute_result"
    }
   ],
   "source": [
    "dt = from_chat_file(\"../ds/self_cognition.json\")\n",
    "dt[0]"
   ]
  },
  {
   "cell_type": "code",
   "execution_count": 6,
   "metadata": {},
   "outputs": [
    {
     "data": {
      "text/plain": [
       "{'messages': [{'role': 'system', 'content': 'You are Sthenno.'},\n",
       "  {'role': 'user', 'content': '你好.'},\n",
       "  {'role': 'assistant',\n",
       "   'content': '你好, 我是 Sthenno, 一个由 SthennoLabs 开发的仿生机器人.'}]}"
      ]
     },
     "execution_count": 6,
     "metadata": {},
     "output_type": "execute_result"
    }
   ],
   "source": [
    "def make_sample(input_string: str, output_string) -> dict:\n",
    "    return {\n",
    "        \"messages\": [\n",
    "            {\"role\": \"system\", \"content\": \"You are Sthenno.\"},\n",
    "            {\"role\": \"user\", \"content\": input_string},\n",
    "            {\"role\": \"assistant\", \"content\": output_string},\n",
    "        ]\n",
    "    }\n",
    "\n",
    "\n",
    "def to_jsonl_file(filename: str, dt: list) -> None:\n",
    "    with open(filename, \"w\", encoding=\"utf-8\") as f:\n",
    "        for d in dt:\n",
    "            f.write(json.dumps(d, ensure_ascii=False) + \"\\n\")\n",
    "\n",
    "\n",
    "chat_data = []\n",
    "\n",
    "for s in dt:\n",
    "    if s[\"input\"] == \"\":\n",
    "        input_string = s[\"instruction\"]\n",
    "    else:\n",
    "        input_string = s[\"input\"]\n",
    "\n",
    "    output_string = s[\"output\"]\n",
    "    chat_data.append(make_sample(input_string, output_string))\n",
    "\n",
    "chat_data[0]"
   ]
  },
  {
   "cell_type": "code",
   "execution_count": 7,
   "metadata": {},
   "outputs": [],
   "source": [
    "to_jsonl_file(\"self_cognition_01.jsonl\", chat_data)"
   ]
  },
  {
   "cell_type": "code",
   "execution_count": null,
   "metadata": {},
   "outputs": [],
   "source": []
  }
 ],
 "metadata": {
  "kernelspec": {
   "display_name": "neoheartbeats-llm",
   "language": "python",
   "name": "python3"
  },
  "language_info": {
   "codemirror_mode": {
    "name": "ipython",
    "version": 3
   },
   "file_extension": ".py",
   "mimetype": "text/x-python",
   "name": "python",
   "nbconvert_exporter": "python",
   "pygments_lexer": "ipython3",
   "version": "3.12.4"
  }
 },
 "nbformat": 4,
 "nbformat_minor": 2
}
