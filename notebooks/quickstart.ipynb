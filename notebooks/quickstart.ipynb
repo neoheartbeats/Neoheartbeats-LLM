{
 "cells": [
  {
   "cell_type": "code",
   "execution_count": 17,
   "metadata": {},
   "outputs": [],
   "source": [
    "import os\n",
    "from mem0 import Memory\n",
    "\n",
    "config = {\n",
    "    \"vector_store\": {\n",
    "        \"provider\": \"qdrant\",\n",
    "        \"config\": {\n",
    "            \"host\": \"localhost\",\n",
    "            \"port\": 6333,\n",
    "        },\n",
    "    },\n",
    "    \"llm\": {\n",
    "        \"provider\": \"openai\",\n",
    "        \"config\": {\n",
    "            \"model\": \"gpt-4o-mini\",\n",
    "            \"temperature\": 0.4,\n",
    "            \"max_tokens\": 1024,\n",
    "        },\n",
    "    },\n",
    "}\n",
    "\n",
    "m = Memory.from_config(config)"
   ]
  },
  {
   "cell_type": "code",
   "execution_count": 14,
   "metadata": {},
   "outputs": [
    {
     "name": "stdout",
     "output_type": "stream",
     "text": [
      "[]\n"
     ]
    }
   ],
   "source": [
    "# For a user\n",
    "result = m.add(\n",
    "    \"有着黄色的头发，蓝色的眼睛.\",\n",
    "    user_id=\"alice\",\n",
    "    metadata={\"category\": \"property\"},\n",
    ")\n",
    "print(result)"
   ]
  },
  {
   "cell_type": "code",
   "execution_count": 15,
   "metadata": {},
   "outputs": [
    {
     "name": "stdout",
     "output_type": "stream",
     "text": [
      "[{'id': '15152a79-f826-47a1-8b9b-a432982453fd', 'text': '{\"Facts\": {\"hair\": \"yellow\", \"eyes\": \"blue\"}, \"Preferences\": null, \"Memories\": null}', 'metadata': {'category': 'property', 'created_at': 1722362521, 'data': '{\"Facts\": {\"hair\": \"yellow\", \"eyes\": \"blue\"}, \"Preferences\": null, \"Memories\": null}', 'user_id': 'alice'}}]\n"
     ]
    }
   ],
   "source": [
    "# Get all memories\n",
    "all_memories = m.get_all()\n",
    "print(all_memories)"
   ]
  },
  {
   "cell_type": "code",
   "execution_count": 16,
   "metadata": {},
   "outputs": [
    {
     "name": "stdout",
     "output_type": "stream",
     "text": [
      "[{'id': '15152a79-f826-47a1-8b9b-a432982453fd', 'text': '{\"Facts\": {\"hair\": \"yellow\", \"eyes\": \"blue\"}, \"Preferences\": null, \"Memories\": null}', 'metadata': {'category': 'property', 'created_at': 1722362521, 'data': '{\"Facts\": {\"hair\": \"yellow\", \"eyes\": \"blue\"}, \"Preferences\": null, \"Memories\": null}', 'user_id': 'alice'}, 'score': 0.28461894}]\n"
     ]
    }
   ],
   "source": [
    "related_memories = m.search(query=\"爱丽丝的头发是什么颜色?\", user_id=\"alice\")\n",
    "print(related_memories)"
   ]
  },
  {
   "cell_type": "code",
   "execution_count": 1,
   "metadata": {},
   "outputs": [],
   "source": [
    "from datetime import datetime\n",
    "\n",
    "\n",
    "def current_t():\n",
    "\n",
    "    # Format like \"8:00 PM, 8 July\"\n",
    "    return datetime.now().strftime(\"%I:%M %p, %-d %B\")"
   ]
  },
  {
   "cell_type": "code",
   "execution_count": 3,
   "metadata": {},
   "outputs": [
    {
     "data": {
      "text/plain": [
       "'02:40 PM, 30 July'"
      ]
     },
     "execution_count": 3,
     "metadata": {},
     "output_type": "execute_result"
    }
   ],
   "source": [
    "current_t()"
   ]
  },
  {
   "cell_type": "code",
   "execution_count": 11,
   "metadata": {},
   "outputs": [
    {
     "data": {
      "text/plain": [
       "'2024-07-30_14:44:01'"
      ]
     },
     "execution_count": 11,
     "metadata": {},
     "output_type": "execute_result"
    }
   ],
   "source": [
    "datetime.now().strftime(\"%Y-%m-%d_%H:%M:%S\")"
   ]
  },
  {
   "cell_type": "code",
   "execution_count": null,
   "metadata": {},
   "outputs": [],
   "source": []
  }
 ],
 "metadata": {
  "kernelspec": {
   "display_name": "neoheartbeats",
   "language": "python",
   "name": "python3"
  },
  "language_info": {
   "codemirror_mode": {
    "name": "ipython",
    "version": 3
   },
   "file_extension": ".py",
   "mimetype": "text/x-python",
   "name": "python",
   "nbconvert_exporter": "python",
   "pygments_lexer": "ipython3",
   "version": "3.11.9"
  }
 },
 "nbformat": 4,
 "nbformat_minor": 2
}
