{
 "cells": [
  {
   "cell_type": "code",
   "execution_count": 3,
   "metadata": {},
   "outputs": [],
   "source": [
    "from mem0 import Mem0, Memory\n",
    "from dotenv import load_dotenv\n",
    "import os\n",
    "load_dotenv(\"../.env\")\n",
    "\n",
    "memo_client_key = os.environ[\"MEMO_KEY\"]\n",
    "\n",
    "config = {\n",
    "    \"vector_store\": {\n",
    "        \"provider\": \"qdrant\",\n",
    "        \"config\": {\n",
    "            \"host\": \"localhost\",\n",
    "            \"port\": 6333,\n",
    "        }\n",
    "    },\n",
    "    \"llm\": {\n",
    "       \"provider\": \"openai\",\n",
    "        \"config\": {\n",
    "            \"model\": \"gpt-4o-mini\",\n",
    "        }\n",
    "    }\n",
    "}\n",
    "\n",
    "m = Memory.from_config(config)"
   ]
  },
  {
   "cell_type": "code",
   "execution_count": 5,
   "metadata": {},
   "outputs": [
    {
     "name": "stderr",
     "output_type": "stream",
     "text": [
      "Exception in thread Thread-23 (add_task):\n",
      "Traceback (most recent call last):\n",
      "  File \"/home/neoheartbeats/cond/envs/neoheartbeats/lib/python3.11/threading.py\", line 1045, in _bootstrap_inner\n",
      "    self.run()\n",
      "  File \"/home/neoheartbeats/cond/envs/neoheartbeats/lib/python3.11/site-packages/ipykernel/ipkernel.py\", line 766, in run_closure\n",
      "    _threading_Thread_run(self)\n",
      "  File \"/home/neoheartbeats/cond/envs/neoheartbeats/lib/python3.11/threading.py\", line 982, in run\n",
      "    self._target(*self._args, **self._kwargs)\n",
      "  File \"/home/neoheartbeats/cond/envs/neoheartbeats/lib/python3.11/site-packages/mem0/proxy/main.py\", line 130, in add_task\n",
      "    self.mem0_client.add(\n",
      "TypeError: Memory.add() got an unexpected keyword argument 'messages'\n"
     ]
    },
    {
     "data": {
      "text/plain": [
       "ModelResponse(id='chatcmpl-9seHb0w4gdBSGmG6Zdjj8UB9tml7N', choices=[Choices(finish_reason='stop', index=0, message=Message(content='蓝莓派是一种美味的甜点，它通常由新鲜蓝莓、糖和酥皮制成，口感酸甜可口，深受许多人喜爱。如果你喜欢蓝莓派，可能也会喜欢其他种类的水果派。', role='assistant', tool_calls=None, function_call=None))], created=1722811587, model='gpt-4o-mini-2024-07-18', object='chat.completion', system_fingerprint='fp_0f03d4f0ee', usage=Usage(completion_tokens=57, prompt_tokens=130, total_tokens=187), service_tier=None)"
      ]
     },
     "execution_count": 5,
     "metadata": {},
     "output_type": "execute_result"
    }
   ],
   "source": [
    "m.add(data=)"
   ]
  },
  {
   "cell_type": "code",
   "execution_count": null,
   "metadata": {},
   "outputs": [],
   "source": []
  }
 ],
 "metadata": {
  "kernelspec": {
   "display_name": "neoheartbeats",
   "language": "python",
   "name": "python3"
  },
  "language_info": {
   "codemirror_mode": {
    "name": "ipython",
    "version": 3
   },
   "file_extension": ".py",
   "mimetype": "text/x-python",
   "name": "python",
   "nbconvert_exporter": "python",
   "pygments_lexer": "ipython3",
   "version": "3.11.9"
  }
 },
 "nbformat": 4,
 "nbformat_minor": 2
}
