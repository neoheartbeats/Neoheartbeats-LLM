{
 "cells": [
  {
   "cell_type": "code",
   "execution_count": 25,
   "metadata": {},
   "outputs": [],
   "source": [
    "import os\n",
    "from mem0 import Memory\n",
    "from groq import Groq\n",
    "from dotenv import load_dotenv\n",
    "from multion.client import MultiOn\n",
    "\n",
    "load_dotenv(\"../.env\")\n",
    "TOKEN = os.environ.get(\"TOKEN\")\n",
    "os.environ[\"OPENAI_API_KEY\"] = os.environ.get(\"OPENAI_API_KEY\")\n",
    "multion_key = os.environ.get(\"MULTION_API_KEY\")\n",
    "\n",
    "USER_ID = \"ilya\"\n",
    "\n",
    "config = {\n",
    "    \"vector_store\": {\n",
    "        \"provider\": \"qdrant\",\n",
    "        \"config\": {\n",
    "            \"host\": \"localhost\",\n",
    "            \"port\": 6333,\n",
    "        },\n",
    "    },\n",
    "    \"llm\": {\n",
    "        \"provider\": \"openai\",\n",
    "        \"config\": {\n",
    "            \"model\": \"gpt-4o-mini\",\n",
    "            \"temperature\": 0,\n",
    "            \"max_tokens\": 1024,\n",
    "        },\n",
    "    },\n",
    "}\n",
    "\n",
    "m = Memory.from_config(config)\n",
    "multion = MultiOn(api_key=multion_key)"
   ]
  },
  {
   "cell_type": "code",
   "execution_count": 15,
   "metadata": {},
   "outputs": [],
   "source": [
    "os.environ.get(\"MULTION_API_KEY\")\n"
   ]
  },
  {
   "cell_type": "code",
   "execution_count": 17,
   "metadata": {},
   "outputs": [
    {
     "name": "stdout",
     "output_type": "stream",
     "text": [
      "[{'id': 'd7d2c532-bc38-4e84-8eba-13a844e2c8eb', 'text': 'Encourages letting go of the past and suggests a sense of freedom or liberation. Indicates a readiness to go somewhere or start an activity. Interested in engaging in activities or making plans.', 'metadata': {'at': '04:05 PM, 1 August', 'data': 'Encourages letting go of the past and suggests a sense of freedom or liberation. Indicates a readiness to go somewhere or start an activity. Interested in engaging in activities or making plans.', 'updated_at': 1722553504, 'user_id': 'ilya'}}]\n"
     ]
    }
   ],
   "source": [
    "# Get all memories\n",
    "all_memories = m.get_all()\n",
    "print(all_memories)"
   ]
  },
  {
   "cell_type": "code",
   "execution_count": 18,
   "metadata": {},
   "outputs": [
    {
     "name": "stdout",
     "output_type": "stream",
     "text": [
      "[]\n"
     ]
    }
   ],
   "source": [
    "related_memories = m.search(query=\"爱丽丝的头发是什么颜色?\", user_id=\"alice\")\n",
    "print(related_memories)"
   ]
  },
  {
   "cell_type": "code",
   "execution_count": null,
   "metadata": {},
   "outputs": [],
   "source": [
    "m.reset()"
   ]
  },
  {
   "cell_type": "code",
   "execution_count": 26,
   "metadata": {},
   "outputs": [
    {
     "data": {
      "text/plain": [
       "[{'id': None, 'event': 'delete', 'data': None},\n",
       " {'id': 'c91e8031-625b-4133-87f2-c52e31f443f2',\n",
       "  'event': 'add',\n",
       "  'data': 'Dislikes blueberries.'}]"
      ]
     },
     "execution_count": 26,
     "metadata": {},
     "output_type": "execute_result"
    }
   ],
   "source": [
    "messages = \"我喜欢蓝莓\"\n",
    "m.add(messages, user_id=\"test\")\n",
    "\n",
    "# Add second message to update history\n",
    "messages = \"我不喜欢蓝莓了\"\n",
    "m.add(messages, user_id=\"test\")"
   ]
  },
  {
   "cell_type": "code",
   "execution_count": null,
   "metadata": {},
   "outputs": [],
   "source": []
  },
  {
   "cell_type": "code",
   "execution_count": 1,
   "metadata": {},
   "outputs": [
    {
     "name": "stdout",
     "output_type": "stream",
     "text": [
      "mem0 client initialized!\n"
     ]
    },
    {
     "data": {
      "text/plain": [
       "{'message': 'ok'}"
      ]
     },
     "execution_count": 1,
     "metadata": {},
     "output_type": "execute_result"
    }
   ],
   "source": [
    "from mem0 import MemoryClient\n",
    "from dotenv import load_dotenv\n",
    "import os\n",
    "load_dotenv(\"../.env\")\n",
    "\n",
    "memo_client_key = os.environ[\"MEMO_KEY\"]\n",
    "\n",
    "\n",
    "client = MemoryClient(api_key=memo_client_key)\n",
    "\n",
    "print(\"mem0 client initialized!\")\n",
    "def message(by, to):\n",
    "    return dict(zip([\"role\", \"content\"], [by, to]))\n",
    "\n",
    "\n",
    "def message_system(to):\n",
    "    return message(\"system\", to)\n",
    "def message_assistant(to):\n",
    "    return message(\"assistant\", to)\n",
    "memo_agent_prompt = [\n",
    "    message_system(\"\"\"You are a memory management assistant in a RolePlay context.\n",
    "You manage content, including chat interactions between Gucci and Ilya.\n",
    "Your output will serve as the system context to aid the continuation of this role-playing game.\n",
    "Continuously analyze the impressions and preferences between characters as a supplementary basis and make suggestions when necessary.\n",
    "In this game, the time is synchronized with real-world time, making the concept of time is important.\"\"\"),\n",
    "    message_assistant(\"\"\"I understand. I will do my best to make the game sustainable and strictly respect the causal relationships of events.\n",
    "I'll maintain personalized RolePlay preferences for each user and provide customized recommendations based on their dietary restrictions, interests, and past interactions.\"\"\")\n",
    "]\n",
    "\n",
    "client.add(memo_agent_prompt, agent_id=\"memo\")"
   ]
  },
  {
   "cell_type": "code",
   "execution_count": 29,
   "metadata": {},
   "outputs": [
    {
     "data": {
      "text/plain": [
       "[{'id': 'dc9e0838-4408-4c21-8afa-21d8b117c78b',\n",
       "  'memory': \"User greeted in Chinese with '你好'\",\n",
       "  'user_id': 'ilya',\n",
       "  'hash': '332bf81d70c615347e2097bccbdfe375',\n",
       "  'metadata': None,\n",
       "  'created_at': '2024-08-01T18:06:49.469032-07:00',\n",
       "  'updated_at': '2024-08-01T18:06:49.469051-07:00',\n",
       "  'score': 0.45627152659127357},\n",
       " {'id': '892e3954-4c4b-41e1-aeb0-d1abd6e6c0d7',\n",
       "  'memory': '喜欢蓝莓',\n",
       "  'user_id': 'ilya',\n",
       "  'hash': 'dfb5f276073c8ecaf000607eb1af2ab1',\n",
       "  'metadata': None,\n",
       "  'created_at': '2024-08-01T18:18:45.198933-07:00',\n",
       "  'updated_at': '2024-08-01T19:09:32.297108-07:00',\n",
       "  'score': 0.43520335659990794}]"
      ]
     },
     "execution_count": 29,
     "metadata": {},
     "output_type": "execute_result"
    }
   ],
   "source": [
    "client.search(\"hi\", user_id=\"ilya\")"
   ]
  },
  {
   "cell_type": "code",
   "execution_count": 20,
   "metadata": {},
   "outputs": [
    {
     "data": {
      "text/plain": [
       "{'message': 'ok'}"
      ]
     },
     "execution_count": 20,
     "metadata": {},
     "output_type": "execute_result"
    }
   ],
   "source": [
    "# Add some message to create history\n",
    "messages = [{\"role\": \"user\", \"content\": \"我喜欢蓝莓\"}]\n",
    "client.add(messages, user_id=\"test\")\n",
    "\n",
    "# Add second message to update history\n",
    "messages.append({'role': 'user', 'content': '我不喜欢蓝莓了'})\n",
    "client.add(messages, user_id=\"test\")"
   ]
  },
  {
   "cell_type": "code",
   "execution_count": 21,
   "metadata": {},
   "outputs": [
    {
     "data": {
      "text/plain": [
       "[{'id': 'acf2b3ad-2e62-45b9-8320-ec21c25a7d81',\n",
       "  'memory': 'Turned vegetarian.',\n",
       "  'user_id': 'test',\n",
       "  'hash': 'adb06869978972c431ef5a0f093cf608',\n",
       "  'metadata': None,\n",
       "  'created_at': '2024-08-01T17:07:38.325235-07:00',\n",
       "  'updated_at': '2024-08-01T17:07:38.325253-07:00'},\n",
       " {'id': '83527fce-f67b-4c82-b9a4-ce8cba27cf9c',\n",
       "  'memory': 'Does not like blueberries.',\n",
       "  'user_id': 'test',\n",
       "  'hash': 'cf0ce25dfeffb1fe044f054d3460939f',\n",
       "  'metadata': None,\n",
       "  'created_at': '2024-08-01T17:46:29.262692-07:00',\n",
       "  'updated_at': '2024-08-01T17:46:29.262709-07:00'}]"
      ]
     },
     "execution_count": 21,
     "metadata": {},
     "output_type": "execute_result"
    }
   ],
   "source": [
    "client.get_all(user_id=\"test\")"
   ]
  },
  {
   "cell_type": "code",
   "execution_count": 1,
   "metadata": {},
   "outputs": [],
   "source": [
    "from mem0 import MemoryClient\n",
    "from dotenv import load_dotenv\n",
    "import os\n",
    "load_dotenv(\"../.env\")\n",
    "\n",
    "memo_client_key = os.environ[\"MEMO_KEY\"]\n",
    "\n",
    "\n",
    "client = MemoryClient(api_key=memo_client_key)"
   ]
  },
  {
   "cell_type": "code",
   "execution_count": 2,
   "metadata": {},
   "outputs": [
    {
     "data": {
      "text/plain": [
       "{'message': 'Memories deleted successfully!'}"
      ]
     },
     "execution_count": 2,
     "metadata": {},
     "output_type": "execute_result"
    }
   ],
   "source": [
    "client.delete_all(agent_id=\"gucci\")\n",
    "client.delete_all(user_id=\"ilya\")"
   ]
  },
  {
   "cell_type": "code",
   "execution_count": 4,
   "metadata": {},
   "outputs": [
    {
     "data": {
      "text/plain": [
       "{'message': 'ok'}"
      ]
     },
     "execution_count": 4,
     "metadata": {},
     "output_type": "execute_result"
    }
   ],
   "source": [
    "def message(by, to):\n",
    "    return dict(zip([\"role\", \"content\"], [by, to]))\n",
    "def message_system(to):\n",
    "    return message(\"system\", to)\n",
    "def message_assistant(to):\n",
    "    return message(\"assistant\", to)\n",
    "messages = [\n",
    "    message_system(\"You are a personalized RolePlaying assistant. Remember user preferences and provide recommendations. You should make the game sustainable and strictly respect the causal relationships of events. Note the default language environment is Chinese.\"),\n",
    "    message_assistant(\"Understood. I'll maintain personalized RolePlay preferences for each user and provide customized recommendations based on their dietary restrictions, interests, and past interactions.\")\n",
    "]\n",
    "client.add(messages, agent_id=\"gucci\")"
   ]
  },
  {
   "cell_type": "code",
   "execution_count": 31,
   "metadata": {},
   "outputs": [],
   "source": [
    "def call_python(c):\n",
    "    try:\n",
    "        call = subprocess.run([\"python\", \"-c\", c], capture_output=True, text=True)\n",
    "        return call.stdout\n",
    "    except Exception as e:\n",
    "        print(e)"
   ]
  },
  {
   "cell_type": "code",
   "execution_count": 32,
   "metadata": {},
   "outputs": [
    {
     "data": {
      "text/plain": [
       "'hello\\n'"
      ]
     },
     "execution_count": 32,
     "metadata": {},
     "output_type": "execute_result"
    }
   ],
   "source": [
    "call_python(\"print('hello')\")"
   ]
  },
  {
   "cell_type": "code",
   "execution_count": null,
   "metadata": {},
   "outputs": [],
   "source": []
  }
 ],
 "metadata": {
  "kernelspec": {
   "display_name": "neoheartbeats",
   "language": "python",
   "name": "python3"
  },
  "language_info": {
   "codemirror_mode": {
    "name": "ipython",
    "version": 3
   },
   "file_extension": ".py",
   "mimetype": "text/x-python",
   "name": "python",
   "nbconvert_exporter": "python",
   "pygments_lexer": "ipython3",
   "version": "3.11.9"
  }
 },
 "nbformat": 4,
 "nbformat_minor": 2
}
