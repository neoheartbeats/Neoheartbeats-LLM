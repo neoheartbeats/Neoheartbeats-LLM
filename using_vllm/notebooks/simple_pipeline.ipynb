{
 "cells": [
  {
   "cell_type": "code",
   "execution_count": 3,
   "metadata": {},
   "outputs": [],
   "source": [
    "import os\n",
    "from groq import Groq\n",
    "\n",
    "\n",
    "def message(by, to):\n",
    "    return dict(zip([\"role\", \"content\"], [by, to]))\n",
    "\n",
    "\n",
    "def message_system(to):\n",
    "    return message(\"system\", to)\n",
    "\n",
    "\n",
    "def message_user(to):\n",
    "    return message(\"user\", to)\n",
    "\n",
    "\n",
    "def message_assistant(to):\n",
    "    return message(\"assistant\", to)\n",
    "\n",
    "\n",
    "def chat_messages(messages):\n",
    "    return (\n",
    "        messages\n",
    "        if (\n",
    "            bool(messages)\n",
    "            and len(messages) % 2 == 0\n",
    "            and all(\n",
    "                messages[i][\"role\"] == \"user\" and messages[i + 1][\"role\"] == \"assistant\"\n",
    "                for i in range(0, len(messages), 2)\n",
    "            )\n",
    "        )\n",
    "        else []\n",
    "    )"
   ]
  },
  {
   "cell_type": "code",
   "execution_count": 2,
   "metadata": {},
   "outputs": [],
   "source": [
    "import ujson as json\n",
    "\n",
    "\n",
    "def chat_messages_from_file(file):\n",
    "    if not os.path.exists(file):\n",
    "        return []\n",
    "    with open(file, \"r\") as f:\n",
    "        return chat_messages(json.loads(f))\n",
    "\n",
    "\n",
    "def chat_messages_to_file(messages, file):\n",
    "    if not os.path.exists(file):\n",
    "        os.makedirs(os.path.dirname(file), exist_ok=True)\n",
    "    with open(file, \"w\") as f:\n",
    "        return json.dump(chat_messages(messages), f, indent=2, ensure_ascii=False)\n",
    "\n",
    "client = Groq()\n",
    "\n",
    "def chat_completion(chat_input, buffer_messages=[]):\n",
    "    if not chat_messages(buffer_messages):\n",
    "        buff = chat_messages([message_user(input)])\n",
    "    else:\n",
    "        buffer_messages_file = \"buffer_messages.json\"\n",
    "        buff = chat_messages_from_file(buffer_messages_file)\n",
    "    return (\n",
    "        client.chat.completions.create(\n",
    "            messages=[message(to=chat_input) + buff],\n",
    "            model=\"llama-3.1-8b-instant\",\n",
    "        )\n",
    "        .choices[0]\n",
    "        .message.content\n",
    "    )"
   ]
  },
  {
   "cell_type": "code",
   "execution_count": null,
   "metadata": {},
   "outputs": [],
   "source": []
  }
 ],
 "metadata": {
  "kernelspec": {
   "display_name": "neoheartbeats",
   "language": "python",
   "name": "python3"
  },
  "language_info": {
   "codemirror_mode": {
    "name": "ipython",
    "version": 3
   },
   "file_extension": ".py",
   "mimetype": "text/x-python",
   "name": "python",
   "nbconvert_exporter": "python",
   "pygments_lexer": "ipython3",
   "version": "3.11.9"
  }
 },
 "nbformat": 4,
 "nbformat_minor": 2
}
