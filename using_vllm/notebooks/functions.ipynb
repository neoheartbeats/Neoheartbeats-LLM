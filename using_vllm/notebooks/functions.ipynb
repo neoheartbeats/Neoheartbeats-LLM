{
 "cells": [
  {
   "cell_type": "code",
   "execution_count": 55,
   "metadata": {},
   "outputs": [],
   "source": [
    "MODEL = \"llama-3.1-8b-inst\"\n",
    "\n",
    "gpu_point = \"http://127.0.0.1:8000/v1/chat/completions\"\n",
    "\n",
    "\n",
    "import requests\n",
    "import os\n",
    "from dotenv import load_dotenv\n",
    "\n",
    "load_dotenv(\"../.env\")\n",
    "from mem0 import MemoryClient\n",
    "from multion.client import MultiOn\n",
    "\n",
    "memo_client_key = os.environ[\"MEMO_KEY\"]\n",
    "MULTION_API_KEY = os.environ[\"MULTION_API_KEY\"]\n",
    "m_client = MemoryClient(api_key=memo_client_key)\n",
    "multion = MultiOn(api_key=MULTION_API_KEY)\n",
    "\n",
    "\n",
    "def config_llm(\n",
    "    temperature: float = 0.6,\n",
    "    max_tokens: int = 512,\n",
    "    top_p: float = 0.8,\n",
    "    presence_penalty=1.25,\n",
    "    frequency_penalty=1.5,\n",
    ") -> dict:\n",
    "    return {\n",
    "        \"temperature\": temperature,\n",
    "        \"top_p\": top_p,\n",
    "        \"max_tokens\": max_tokens,\n",
    "        \"presence_penalty\": presence_penalty,\n",
    "        \"frequency_penalty\": frequency_penalty,\n",
    "    }\n",
    "\n",
    "\n",
    "def make_request_headers() -> dict:\n",
    "    return {\n",
    "        \"accept\": \"application/json\",\n",
    "        \"Content-Type\": \"application/json\",\n",
    "    }\n",
    "\n",
    "\n",
    "def post_request(source: str, headers: dict, data: dict) -> dict:\n",
    "    return requests.post(source, headers=headers, data=json.dumps(data)).json()\n",
    "\n",
    "\n",
    "def browsing(command: str, url: str = \"\") -> str:\n",
    "    browse_result = multion.browse(cmd=command, url=url)\n",
    "    print(browse_result)\n",
    "    return browse_result\n",
    "\n",
    "\n",
    "def make_request_data(message_list) -> dict:\n",
    "    return {\n",
    "        \"model\": MODEL,\n",
    "        \"messages\": message_list,\n",
    "        \"max_tokens\": config_llm()[\"max_tokens\"],\n",
    "        \"temperature\": config_llm()[\"temperature\"],\n",
    "        \"presence_penalty\": config_llm()[\"presence_penalty\"],\n",
    "    }\n",
    "\n",
    "\n",
    "import json\n",
    "\n",
    "\n",
    "def message(by, to):\n",
    "    return dict(zip([\"role\", \"content\"], [by, to]))\n",
    "\n",
    "\n",
    "def message_system(to):\n",
    "    return message(\"system\", to)\n",
    "\n",
    "\n",
    "def message_user(to):\n",
    "    return message(\"user\", to)\n",
    "\n",
    "\n",
    "def message_assistant(to):\n",
    "    return message(\"assistant\", to)\n",
    "\n",
    "\n",
    "def message_ipython(to):\n",
    "    return message(\"ipython\", to)\n",
    "\n",
    "\n",
    "def get_response_completion(message_list) -> str:\n",
    "    response: dict = post_request(\n",
    "        source=gpu_point,\n",
    "        headers=make_request_headers(),\n",
    "        data=make_request_data(message_list=message_list),\n",
    "    )\n",
    "    buff = message_list\n",
    "    content = response[\"choices\"][0][\"message\"][\"content\"]\n",
    "    if \"<|python_tag|>\" in content:\n",
    "        try:\n",
    "            call = exec(content.replace(\"<|python_tag|>\", \"\"))\n",
    "            buff.append(message_ipython(f\"{call}\"))\n",
    "            return post_request(\n",
    "                source=gpu_point,\n",
    "                headers=make_request_headers(),\n",
    "                data=make_request_data(message_list=buff),\n",
    "            )[\"choices\"][0][\"message\"][\"content\"]\n",
    "        except Exception as e:\n",
    "            print(e)\n",
    "            return content\n",
    "    else:\n",
    "        return content\n",
    "\n",
    "\n",
    "def browsing(command: str, url: str = \"\") -> str:\n",
    "    browse_result = multion.browse(cmd=command)\n",
    "    print(browse_result)\n",
    "    return browse_result.message"
   ]
  },
  {
   "cell_type": "code",
   "execution_count": 56,
   "metadata": {},
   "outputs": [
    {
     "name": "stdout",
     "output_type": "stream",
     "text": [
      "4\n"
     ]
    }
   ],
   "source": [
    "import json\n",
    "messages = []\n",
    "# messages.append({\"role\": \"system\", \"content\": \"Don't make assumptions about what values to plug into functions. Ask for clarification if a user request is ambiguous.\"})\n",
    "messages.append(message_system(\"\"\"\n",
    "Environment: ipython\n",
    "Tools: brave_search, wolfram_alpha\n",
    "\"\"\"))\n",
    "messages.append(message_user(\"execute `2+2` using python interpreter\"))\n",
    "r = get_response_completion(messages)\n"
   ]
  },
  {
   "cell_type": "code",
   "execution_count": 52,
   "metadata": {},
   "outputs": [
    {
     "data": {
      "text/plain": [
       "'<|python_tag|>print(2+2)'"
      ]
     },
     "execution_count": 52,
     "metadata": {},
     "output_type": "execute_result"
    }
   ],
   "source": [
    "r"
   ]
  },
  {
   "cell_type": "code",
   "execution_count": 49,
   "metadata": {},
   "outputs": [
    {
     "name": "stdout",
     "output_type": "stream",
     "text": [
      "4\n"
     ]
    }
   ],
   "source": [
    "exec(\"print(2+2)\")"
   ]
  },
  {
   "cell_type": "code",
   "execution_count": null,
   "metadata": {},
   "outputs": [],
   "source": []
  }
 ],
 "metadata": {
  "kernelspec": {
   "display_name": "neoheartbeats",
   "language": "python",
   "name": "python3"
  },
  "language_info": {
   "codemirror_mode": {
    "name": "ipython",
    "version": 3
   },
   "file_extension": ".py",
   "mimetype": "text/x-python",
   "name": "python",
   "nbconvert_exporter": "python",
   "pygments_lexer": "ipython3",
   "version": "3.11.9"
  }
 },
 "nbformat": 4,
 "nbformat_minor": 2
}
